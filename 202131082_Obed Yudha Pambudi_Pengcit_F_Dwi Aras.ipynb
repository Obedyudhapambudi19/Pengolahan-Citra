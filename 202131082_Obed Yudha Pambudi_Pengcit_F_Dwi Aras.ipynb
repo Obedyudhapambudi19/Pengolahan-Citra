{
 "cells": [
  {
   "cell_type": "markdown",
   "id": "a967ac92",
   "metadata": {},
   "source": [
    "# Obed Yudha Pambudi\n",
    "# NIM 202131082"
   ]
  },
  {
   "cell_type": "code",
   "execution_count": 1,
   "id": "16a56a48",
   "metadata": {},
   "outputs": [],
   "source": [
    "import cv2 as cv\n",
    "import numpy as np\n",
    "from matplotlib import pyplot as plt"
   ]
  },
  {
   "cell_type": "code",
   "execution_count": 2,
   "id": "423869c8",
   "metadata": {},
   "outputs": [],
   "source": [
    "daun = cv.imread('daun.jpg',0)\n",
    "tinggi, lebar = daun.shape "
   ]
  },
  {
   "cell_type": "code",
   "execution_count": 3,
   "id": "f07aead0",
   "metadata": {},
   "outputs": [],
   "source": [
    "cv.imshow(\"Citra Asli\", daun)\n",
    "cv.waitKey(0)\n",
    "cv.destroyAllWindows()"
   ]
  },
  {
   "cell_type": "markdown",
   "id": "bb9a9ad8",
   "metadata": {},
   "source": [
    "# Pengembangan Dwi Aras dengan Perkiraan Nilai Ambang "
   ]
  },
  {
   "cell_type": "code",
   "execution_count": 4,
   "id": "4ae2156a",
   "metadata": {},
   "outputs": [],
   "source": [
    "nilai_ambang = 128 \n",
    "daun_hasil = daun.copy()\n",
    "for x in range (tinggi):\n",
    "    for y in range (lebar):\n",
    "        if daun[x,y]<nilai_ambang:\n",
    "            daun_hasil[x,y]=0\n",
    "        else:\n",
    "            daun_hasil[x,y]=225"
   ]
  },
  {
   "cell_type": "code",
   "execution_count": 11,
   "id": "8933065b",
   "metadata": {},
   "outputs": [],
   "source": [
    "cv.imshow(\"Aras Daun\", daun_hasil)\n",
    "cv.waitKey(0)\n",
    "cv.destroyAllWindows()"
   ]
  },
  {
   "cell_type": "markdown",
   "id": "5db83527",
   "metadata": {},
   "source": [
    "# Menentukan Nilai Ambang Suatu Gambar"
   ]
  },
  {
   "cell_type": "code",
   "execution_count": 12,
   "id": "0547adc8",
   "metadata": {},
   "outputs": [],
   "source": [
    "def titeratif(image):\n",
    "    tinggi,lebar = image.shape\n",
    "    t0= 127\n",
    "    while(True):\n",
    "        rata_kiri = 0;\n",
    "        rata_kanan = 0;\n",
    "        jum_kiri =0;\n",
    "        jum_kanan =0;\n",
    "        for x in range(tinggi):\n",
    "            for y in range(lebar):\n",
    "                if(image[x,y]<= 127):\n",
    "                    rata_kiri= rata_kiri + image[x,y]\n",
    "                    jum_kiri = jum_kiri + 1\n",
    "                else:\n",
    "                    rata_kanan= rata_kanan + image[x,y]\n",
    "                    jum_kanan = jum_kanan + 1\n",
    "                    \n",
    "        rata_kiri = rata_kiri/ jum_kiri\n",
    "        rata_kanan = rata_kanan/ jum_kanan \n",
    "        t1 = (rata_kiri + rata_kanan)/2\n",
    "        if((t0-t1)<1):\n",
    "            break\n",
    "        t0 = t1\n",
    "    return round(t1)"
   ]
  },
  {
   "cell_type": "code",
   "execution_count": 13,
   "id": "c06f6428",
   "metadata": {},
   "outputs": [
    {
     "data": {
      "text/plain": [
       "131"
      ]
     },
     "execution_count": 13,
     "metadata": {},
     "output_type": "execute_result"
    }
   ],
   "source": [
    "titeratif(daun)"
   ]
  },
  {
   "cell_type": "markdown",
   "id": "ba4393ec",
   "metadata": {},
   "source": [
    "# Menentukan nilai ambang suatu citra Tireatif Daun"
   ]
  },
  {
   "cell_type": "code",
   "execution_count": null,
   "id": "11463a99",
   "metadata": {},
   "outputs": [],
   "source": []
  }
 ],
 "metadata": {
  "kernelspec": {
   "display_name": "Python 3 (ipykernel)",
   "language": "python",
   "name": "python3"
  },
  "language_info": {
   "codemirror_mode": {
    "name": "ipython",
    "version": 3
   },
   "file_extension": ".py",
   "mimetype": "text/x-python",
   "name": "python",
   "nbconvert_exporter": "python",
   "pygments_lexer": "ipython3",
   "version": "3.11.4"
  }
 },
 "nbformat": 4,
 "nbformat_minor": 5
}
